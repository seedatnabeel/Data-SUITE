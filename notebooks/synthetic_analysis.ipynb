{
 "cells": [
  {
   "cell_type": "markdown",
   "id": "dcf4e304",
   "metadata": {},
   "source": [
    "# Processes artifact from wandb for synthetic experiments"
   ]
  },
  {
   "cell_type": "code",
   "execution_count": 7,
   "id": "6e08dd69",
   "metadata": {},
   "outputs": [],
   "source": [
    "import os\n",
    "import sys\n",
    "\n",
    "module_path = os.path.abspath(os.path.join(\"..\"))\n",
    "if module_path not in sys.path:\n",
    "    sys.path.append(module_path)\n",
    "\n",
    "import pandas as pd\n",
    "\n",
    "from src.utils.graphics import get_metrics_graphs, get_mse_table\n",
    "\n",
    "\n",
    "results_path = \"./results\"\n",
    "artifacts_path = \"./artifacts\"\n"
   ]
  },
  {
   "cell_type": "code",
   "execution_count": 8,
   "id": "8d5a0b79",
   "metadata": {},
   "outputs": [],
   "source": [
    "# download csv of results from wandb and change path if needed\n",
    "wandb_artifact_path = f\"{artifacts_path}/synthetic_artifacts.csv\"\n",
    "\n",
    "df = pd.read_csv(wandb_artifact_path)\n"
   ]
  },
  {
   "cell_type": "markdown",
   "id": "c492caee",
   "metadata": {},
   "source": [
    "# EXPERIMENT 4.1"
   ]
  },
  {
   "cell_type": "code",
   "execution_count": null,
   "id": "29b858d8",
   "metadata": {},
   "outputs": [],
   "source": [
    "import matplotlib.pyplot as plt\n",
    "\n",
    "get_metrics_graphs(df)\n"
   ]
  },
  {
   "cell_type": "markdown",
   "id": "d519f00a",
   "metadata": {},
   "source": [
    "# EXPERIMENT 4.2"
   ]
  },
  {
   "cell_type": "markdown",
   "id": "9b08333d",
   "metadata": {},
   "source": [
    "# MSE BY VARYING PROPORTION"
   ]
  },
  {
   "cell_type": "code",
   "execution_count": null,
   "id": "e171238b",
   "metadata": {},
   "outputs": [],
   "source": [
    "output_df = get_mse_table(df, column=0)\n",
    "\n",
    "output_df.to_csv(f\"{results_path}/synthetic/mse_proportion_df.csv\")\n",
    "output_df\n"
   ]
  },
  {
   "cell_type": "markdown",
   "id": "c19deffd",
   "metadata": {},
   "source": [
    "# MSE BY VARYING VARIANCE"
   ]
  },
  {
   "cell_type": "code",
   "execution_count": null,
   "id": "7a987dc4",
   "metadata": {},
   "outputs": [],
   "source": [
    "output_df = get_mse_table(df, column=1)\n",
    "\n",
    "output_df.to_csv(f\"{results_path}/synthetic/mse_variance_df.csv\")\n",
    "output_df\n"
   ]
  }
 ],
 "metadata": {
  "kernelspec": {
   "display_name": "venv3.7",
   "language": "python",
   "name": "venv3.7"
  },
  "language_info": {
   "codemirror_mode": {
    "name": "ipython",
    "version": 3
   },
   "file_extension": ".py",
   "mimetype": "text/x-python",
   "name": "python",
   "nbconvert_exporter": "python",
   "pygments_lexer": "ipython3",
   "version": "3.7.12"
  }
 },
 "nbformat": 4,
 "nbformat_minor": 5
}
