{
 "cells": [
  {
   "cell_type": "markdown",
   "id": "0f55b54a",
   "metadata": {},
   "source": [
    "# DETAILED TUTORIAL: USING DATA SUITE ON SYNTHETIC DATA"
   ]
  },
  {
   "cell_type": "markdown",
   "id": "d1121b5b",
   "metadata": {},
   "source": [
    "## Imports"
   ]
  },
  {
   "cell_type": "code",
   "execution_count": 1,
   "id": "fc68fcd0",
   "metadata": {},
   "outputs": [],
   "source": [
    "import os\n",
    "import sys\n",
    "\n",
    "module_path = os.path.abspath(os.path.join(\"..\"))\n",
    "if module_path not in sys.path:\n",
    "    sys.path.append(module_path)"
   ]
  },
  {
   "cell_type": "code",
   "execution_count": 2,
   "id": "dab691e7",
   "metadata": {},
   "outputs": [],
   "source": [
    "import numpy as np\n",
    "import pandas as pd\n",
    "from sklearn.ensemble import RandomForestClassifier\n",
    "from sklearn.metrics import accuracy_score\n",
    "\n",
    "import wandb\n",
    "from sklearn import linear_model\n",
    "from sklearn.metrics import mean_squared_error\n",
    "\n",
    "from src.data.data_loader import load_adult_data\n",
    "from src.models.benchmarks import comparison_methods\n",
    "from src.models.conformal import conformal_class\n",
    "from src.models.representation import compute_representation\n",
    "from src.utils.data_utils import (\n",
    "    covariance_comparison,\n",
    "    get_suspect_features,\n",
    "    read_from_file,\n",
    "    write_to_file,\n",
    ")\n",
    "from src.utils.helpers import inlier_outlier_dicts, sort_ci_vals\n",
    "from src.utils.data_utils import (\n",
    "    covariance_comparison,\n",
    "    get_suspect_features,\n",
    ")\n",
    "\n",
    "\n",
    "model_ids = {}\n",
    "artifact_path = \"artifacts\"\n",
    "\n"
   ]
  },
  {
   "cell_type": "code",
   "execution_count": 3,
   "id": "57e0715b",
   "metadata": {},
   "outputs": [],
   "source": [
    "import logging\n",
    "logger = logging.getLogger()\n",
    "logger.setLevel(logging.INFO)"
   ]
  },
  {
   "cell_type": "markdown",
   "id": "522d6a49",
   "metadata": {},
   "source": [
    "## Generate synthetic data"
   ]
  },
  {
   "cell_type": "code",
   "execution_count": 4,
   "id": "60febc0a",
   "metadata": {},
   "outputs": [],
   "source": [
    "props = [0.1, 0.25, 0.5, 0.75]\n",
    "dists = [\"normal\", \"beta\", \"gamma\", \"weibull\"]\n",
    "noise_vars = [1, 2, 5, 10]\n",
    "copula_count_samples = [1000]\n",
    "\n",
    "prop = props[0]\n",
    "dist = dists[0]\n",
    "noise_variance = noise_vars[0]\n",
    "copula_n_samples = 1000\n",
    "\n",
    "\n",
    "n_synthetic = 1000\n",
    "train_prop = 1\n",
    "rep_type = \"pca\"\n",
    "\n",
    "wandb_dict = {}\n",
    "\n",
    "\n",
    "from src.data.data_loader import load_synthetic_data\n",
    "\n",
    "(\n",
    "    train,\n",
    "    test,\n",
    "    orig_test,\n",
    "    noise_bool,\n",
    "    noise_matrix,\n",
    "    noise_idx,\n",
    ") = load_synthetic_data(\n",
    "    n_synthetic=n_synthetic,\n",
    "    mean=0,\n",
    "    noise_variance=noise_variance,\n",
    "    dim=\"small\",\n",
    "    prop=prop,\n",
    "    dist=dist,\n",
    ")\n",
    "\n",
    "\n",
    "suspect_features = list(range(train.shape[1]))\n",
    "\n",
    "\n"
   ]
  },
  {
   "cell_type": "markdown",
   "id": "336c3605",
   "metadata": {},
   "source": [
    "## STEP 1: COPULA - We fit and sample a copula on the dataset. This step is optional, but it allows the user to only need synthetic data rather than real data"
   ]
  },
  {
   "cell_type": "code",
   "execution_count": 5,
   "id": "b97085c0",
   "metadata": {},
   "outputs": [
    {
     "name": "stderr",
     "output_type": "stream",
     "text": [
      "INFO:root:Vine...\n",
      "INFO:copulas.multivariate.vine:Fitting VineCopula(\"direct\")\n",
      "INFO:root:Copula Samples = 1000\n"
     ]
    }
   ],
   "source": [
    "from src.models.copula import fit_sample_copula\n",
    "\n",
    "copula_samples = fit_sample_copula(\n",
    "    clean_corpus=train,\n",
    "    copula=\"vine\",\n",
    "    copula_n_samples=copula_n_samples,\n",
    ")"
   ]
  },
  {
   "cell_type": "markdown",
   "id": "8ea8ae2a",
   "metadata": {},
   "source": [
    "## STEP 2: REPRESENTER - learns a low dimensional representation of the data. The representation dimension is half, but can be adjusted as a hyperparameter"
   ]
  },
  {
   "cell_type": "code",
   "execution_count": 6,
   "id": "d1638bb1",
   "metadata": {},
   "outputs": [],
   "source": [
    "from src.models.representation import compute_representation\n",
    "\n",
    "rep_dim = int(np.ceil(train.shape[1] / 2))\n",
    "pcs_train, pcs_test, pcs_copula = compute_representation(\n",
    "    train,\n",
    "    test,\n",
    "    copula_samples,\n",
    "    n_components=rep_dim,\n",
    "    rep_type=rep_type,\n",
    ")\n"
   ]
  },
  {
   "cell_type": "markdown",
   "id": "e51b9cbb",
   "metadata": {},
   "source": [
    "# STEP 3: CONFORMAL PREDICTOR - a feature-wise conformal predictor is fit and each reconstruction assessed"
   ]
  },
  {
   "cell_type": "code",
   "execution_count": 7,
   "id": "e33f755a",
   "metadata": {},
   "outputs": [
    {
     "name": "stderr",
     "output_type": "stream",
     "text": [
      "INFO:root:Running analysis for feature = 0\n",
      "INFO:root:Running analysis for feature = 1\n",
      "INFO:root:Running analysis for feature = 2\n"
     ]
    }
   ],
   "source": [
    "from src.models.conformal import conformal_class\n",
    "\n",
    "conformal_dict = {}\n",
    "for feat in suspect_features:\n",
    "    feat = int(feat)\n",
    "    dim = pcs_copula.shape[1]\n",
    "    conf = conformal_class(\n",
    "        conformity_score=\"sign\", input_dim=dim\n",
    "    )\n",
    "    conf.fit(\n",
    "        x_train=pcs_copula, y_train=copula_samples[:, feat]\n",
    "    )\n",
    "    conformal_dict[feat] = conf.predict(\n",
    "        x_test=pcs_test, y_test=test[:, feat]\n",
    "    )\n",
    "    logging.info(f\"Running analysis for feature = {feat}\")\n"
   ]
  },
  {
   "cell_type": "markdown",
   "id": "de944917",
   "metadata": {},
   "source": [
    "## PROCESS CONFORMAL INTERVALS - we need to process the intervals "
   ]
  },
  {
   "cell_type": "code",
   "execution_count": 8,
   "id": "01fc9896",
   "metadata": {},
   "outputs": [
    {
     "name": "stderr",
     "output_type": "stream",
     "text": [
      "/Users/nabeel/Documents/GitHub/Data-SUITE/src/utils/helpers.py:79: SettingWithCopyWarning: \n",
      "A value is trying to be set on a copy of a slice from a DataFrame.\n",
      "Try using .loc[row_indexer,col_indexer] = value instead\n",
      "\n",
      "See the caveats in the documentation: https://pandas.pydata.org/pandas-docs/stable/user_guide/indexing.html#returning-a-view-versus-a-copy\n",
      "  df_inlier[f\"{feature}_contrib\"] = df_inlier[\"norm_interval\"]\n"
     ]
    }
   ],
   "source": [
    "from src.utils.helpers import *\n",
    "\n",
    "proportion=0.4\n",
    "\n",
    "inliers_dict, outliers_dict = inlier_outlier_dicts(\n",
    "    conformal_dict, suspect_features\n",
    ")\n",
    "\n",
    "\n",
    "small_ci_ids, large_ci_ids, df_sorted = sort_cis_synth(\n",
    "    conformal_dict, inliers_dict, suspect_features=[0], proportion=proportion\n",
    ")"
   ]
  },
  {
   "cell_type": "markdown",
   "id": "3e643c90",
   "metadata": {},
   "source": [
    "## EXAMPLE: TRAIN A DOWNSTREAM REGRESSION MODEL & SHOW RESULTS ON THE DIFFERENT TYPES OF SAMPLES"
   ]
  },
  {
   "cell_type": "code",
   "execution_count": 9,
   "id": "7a80c618",
   "metadata": {
    "lines_to_next_cell": 2
   },
   "outputs": [
    {
     "name": "stdout",
     "output_type": "stream",
     "text": [
      "MSE Train data: 0.06611016393596339 \n",
      "\n",
      "-------------------------------\n",
      "MSE Test (ALL SAMPLES - INLIERS+OUTLIERS): 0.10925554872133665 \n",
      "\n",
      "-------------------------------\n",
      "MSE Outliers: 0.16960072149325237 \n",
      "\n",
      "-------------------------------\n",
      "MSE Inliers: 0.10163516854194797 \n",
      "\n",
      "MSE Inliers w/ SMALL CIs: 0.07927355182798156\n",
      " \n",
      "MSE Inliers w/  LARGE CIs: 0.11329596405589415\n",
      "\n"
     ]
    }
   ],
   "source": [
    "from src.models.benchmarks import comparison_methods\n",
    "\n",
    "inlier_ids = inliers_dict[0]\n",
    "outlier_ids = outliers_dict[0]\n",
    "\n",
    "\n",
    "#####################################\n",
    "#\n",
    "# FIT A DOWNSTREAM MODEL ON TRAINING DATA\n",
    "# MAKE PREDICTIONS ON TEST DATA\n",
    "#\n",
    "#####################################\n",
    "\n",
    "# Create linear regression object\n",
    "regr = linear_model.LinearRegression()\n",
    "\n",
    "# Train the model using the training sets\n",
    "regr.fit(train[:, 0:-1], train[:, -1])\n",
    "\n",
    "y_pred = regr.predict(train[:, 0:-1])\n",
    "\n",
    "\n",
    "#####################################\n",
    "#\n",
    "# ASSESS MSE ON THE DIFFERENT TYPE OF SAMPLES IDENTIFIED\n",
    "#\n",
    "#####################################\n",
    "\n",
    "mse = mean_squared_error(train[:, -1], y_pred)\n",
    "print(f\"MSE Train data: {mse} \\n\")\n",
    "wandb_dict[\"mse_train_clean\"] = mse\n",
    "\n",
    "print(\"-------------------------------\")\n",
    "\n",
    "y_pred = regr.predict(test[:, 0:-1])\n",
    "mse = mean_squared_error(test[:, -1], y_pred)\n",
    "print(\n",
    "    f\"MSE Test (ALL SAMPLES - INLIERS+OUTLIERS): {mse} \\n\"\n",
    ")\n",
    "wandb_dict[\"mse_test_unknown\"] = mse\n",
    "\n",
    "print(\"-------------------------------\")\n",
    "\n",
    "y_pred = regr.predict(test[outlier_ids, 0:-1])\n",
    "mse = mean_squared_error(test[outlier_ids, -1], y_pred)\n",
    "print(f\"MSE Outliers: {mse} \\n\")\n",
    "wandb_dict[\"mse_test_outliers\"] = mse\n",
    "\n",
    "print(\"-------------------------------\")\n",
    "\n",
    "y_pred = regr.predict(test[inlier_ids, 0:-1])\n",
    "mse = mean_squared_error(test[inlier_ids, -1], y_pred)\n",
    "print(f\"MSE Inliers: {mse } \\n\")\n",
    "wandb_dict[\"mse_test_inliers\"] = mse\n",
    "\n",
    "y_pred = regr.predict(test[small_ci_ids, 0:-1])\n",
    "mse = mean_squared_error(test[small_ci_ids, -1], y_pred)\n",
    "print(f\"MSE Inliers w/ SMALL CIs: {mse}\\n \")\n",
    "wandb_dict[\"mse_test_inliers_small_ci\"] = mse\n",
    "\n",
    "y_pred = regr.predict(test[large_ci_ids, 0:-1])\n",
    "mse = mean_squared_error(test[large_ci_ids, -1], y_pred)\n",
    "print(f\"MSE Inliers w/  LARGE CIs: {mse}\\n\")\n",
    "wandb_dict[\"mse_test_inliers_large_ci\"] = mse"
   ]
  },
  {
   "cell_type": "markdown",
   "id": "cf06561d",
   "metadata": {},
   "source": [
    "### Note the differences between samples with small CIs and Large CIs - indicating we can trust samples with small CIs more"
   ]
  },
  {
   "cell_type": "markdown",
   "id": "dce69e3b",
   "metadata": {},
   "source": [
    "## EXAMPLE: Compute performance metrics"
   ]
  },
  {
   "cell_type": "code",
   "execution_count": 10,
   "id": "7381af02",
   "metadata": {},
   "outputs": [
    {
     "name": "stderr",
     "output_type": "stream",
     "text": [
      "/Users/nabeel/Documents/Projects/Noise/code/venv3.7/lib/python3.7/site-packages/ipykernel_launcher.py:18: SettingWithCopyWarning: \n",
      "A value is trying to be set on a copy of a slice from a DataFrame.\n",
      "Try using .loc[row_indexer,col_indexer] = value instead\n",
      "\n",
      "See the caveats in the documentation: https://pandas.pydata.org/pandas-docs/stable/user_guide/indexing.html#returning-a-view-versus-a-copy\n"
     ]
    },
    {
     "name": "stdout",
     "output_type": "stream",
     "text": [
      "COMPUTING PERFORMANCE METRICS\n",
      "KNNs ROC:0.4772, precision @ rank n:0.9483\n",
      "KNNs ROC:0.4772, precision @ rank n:0.9483\n",
      "KNNs ROC:0.4806, precision @ rank n:0.9483\n",
      "KNNs ROC:0.4806, precision @ rank n:0.9483\n",
      "KNNs ROC:0.4836, precision @ rank n:0.9483\n",
      "KNNs ROC:0.4864, precision @ rank n:0.9483\n",
      "KNNs ROC:0.4864, precision @ rank n:0.9483\n",
      "KNNs ROC:0.489, precision @ rank n:0.9483\n",
      "KNNs ROC:0.489, precision @ rank n:0.9483\n",
      "KNNs ROC:0.4914, precision @ rank n:0.9483\n",
      "KNNs ROC:0.4914, precision @ rank n:0.9483\n",
      "KNNs ROC:0.4936, precision @ rank n:0.9483\n",
      "KNNs ROC:0.4957, precision @ rank n:0.9483\n",
      "KNNs ROC:0.4957, precision @ rank n:0.9483\n",
      "KNNs ROC:0.4976, precision @ rank n:0.9483\n",
      "KNNs ROC:0.4976, precision @ rank n:0.9483\n",
      "KNNs ROC:0.4995, precision @ rank n:0.9483\n",
      "KNNs ROC:0.5012, precision @ rank n:0.9483\n",
      "KNNs ROC:0.5012, precision @ rank n:0.9483\n",
      "KNNs ROC:0.5028, precision @ rank n:0.9483\n",
      "KNNs ROC:0.5028, precision @ rank n:0.9483\n",
      "KNNs ROC:0.5043, precision @ rank n:0.9483\n",
      "KNNs ROC:0.5057, precision @ rank n:0.9483\n",
      "KNNs ROC:0.5057, precision @ rank n:0.9483\n",
      "KNNs ROC:0.5071, precision @ rank n:0.9483\n",
      "KNNs ROC:0.5071, precision @ rank n:0.9483\n",
      "KNNs ROC:0.5083, precision @ rank n:0.9483\n",
      "KNNs ROC:0.5083, precision @ rank n:0.9483\n",
      "KNNs ROC:0.5096, precision @ rank n:0.9483\n",
      "KNNs ROC:0.5107, precision @ rank n:0.9483\n",
      "KNNs ROC:0.5107, precision @ rank n:0.9483\n",
      "KNNs ROC:0.5118, precision @ rank n:0.9483\n",
      "KNNs ROC:0.5118, precision @ rank n:0.9483\n"
     ]
    }
   ],
   "source": [
    "from src.utils.uncertainty_metrics import *\n",
    "from copy import deepcopy\n",
    "\n",
    "ids = range(test.shape[0])\n",
    "\n",
    "ids = inlier_ids\n",
    "\n",
    "y_test_ids = noise_bool\n",
    "\n",
    "x_train_uncert, y_train_uncert = train[:, 1:], train[:, 0]\n",
    "x_test_uncert = test[:, 1:]\n",
    "feature=0\n",
    "\n",
    "df_conformal = conformal_dict[feature]\n",
    "\n",
    "df_conformal = df_conformal.iloc[ids, :]\n",
    "\n",
    "df_conformal[\"pred\"] = df_conformal[\"min\"] + (df_conformal[\"conf_interval\"] / 2)\n",
    "\n",
    "preds = df_conformal[\"pred\"]  # target predictions\n",
    "# dc['true_val']  # ground truth observations\n",
    "true = orig_test[ids, 0]\n",
    "# lower bound of the prediction interval\n",
    "lb = df_conformal[\"min\"]\n",
    "# upper bound of the prediction interval\n",
    "ub = df_conformal[\"max\"]\n",
    "\n",
    "print(\"COMPUTING PERFORMANCE METRICS\")\n",
    "\n",
    "(\n",
    "    uncert_metrics,\n",
    "    excess,\n",
    "    deficet,\n",
    "    excess_all,\n",
    "    deficet_all,\n",
    ") = compute_uncertainty_metrics(\n",
    "    preds=preds, lower_bound=lb, upper_bound=ub, true=true\n",
    ")\n",
    "\n",
    "idx_ordered = list(df_conformal.sort_values(by=\"conf_interval\").index)\n",
    "results, roc = test_ood(np.array(y_test_ids)[ids], idx_ordered)\n",
    "\n",
    "wandb_dict = process_results(\n",
    "    wandb_dict,\n",
    "    results,\n",
    "    roc,\n",
    "    uncert_metrics,\n",
    "    excess,\n",
    "    deficet,\n",
    "    excess_all,\n",
    "    deficet_all,\n",
    "    name=\"conformal_copula\",\n",
    ")"
   ]
  },
  {
   "cell_type": "markdown",
   "id": "69b1c11d",
   "metadata": {},
   "source": [
    "## This dict could be logged - note PICP (Prediction interval coverage probability) = Coverage "
   ]
  },
  {
   "cell_type": "code",
   "execution_count": 11,
   "id": "d51686cf",
   "metadata": {},
   "outputs": [
    {
     "data": {
      "text/plain": [
       "{'mse_train_clean': 0.06611016393596339,\n",
       " 'mse_test_unknown': 0.10925554872133665,\n",
       " 'mse_test_outliers': 0.16960072149325237,\n",
       " 'mse_test_inliers': 0.10163516854194797,\n",
       " 'mse_test_inliers_small_ci': 0.07927355182798156,\n",
       " 'mse_test_inliers_large_ci': 0.11329596405589415,\n",
       " 'excess_conformal_copula': 1.7270678235888246,\n",
       " 'deficet_conformal_copula': 0.11122050922588227,\n",
       " 'excess_all_conformal_copula': 1.6975956764286058,\n",
       " 'deficet_all_conformal_copula': 0.0018979609082915062,\n",
       " 'roc_conformal_copula': 0.4772,\n",
       " 'rmse_conformal_copula': 0.5246920438634434,\n",
       " 'nll_conformal_copula': 0.9067576930600207,\n",
       " 'auucc_gain_conformal_copula': -0.33335677581719003,\n",
       " 'picp_conformal_copula': 0.9829351535836177,\n",
       " 'mpiw_conformal_copula': 4.190101260962822,\n",
       " 'r2_conformal_copula': 0.9165079038050987,\n",
       " 'TPR_conformal_copula': 0.9481123944147561,\n",
       " 'FPR_conformal_copula': 0.9658907975227742,\n",
       " 'TNR_conformal_copula': 0.03409026344198027,\n",
       " 'FNR_conformal_copula': 0.05171522151353215,\n",
       " 'Recall_conformal_copula': 0.9482758620689655,\n",
       " 'Precision_conformal_copula': 0.09734513274336283}"
      ]
     },
     "execution_count": 11,
     "metadata": {},
     "output_type": "execute_result"
    }
   ],
   "source": [
    "wandb_dict"
   ]
  }
 ],
 "metadata": {
  "kernelspec": {
   "display_name": "Python 3 (ipykernel)",
   "language": "python",
   "name": "python3"
  },
  "language_info": {
   "codemirror_mode": {
    "name": "ipython",
    "version": 3
   },
   "file_extension": ".py",
   "mimetype": "text/x-python",
   "name": "python",
   "nbconvert_exporter": "python",
   "pygments_lexer": "ipython3",
   "version": "3.7.12"
  }
 },
 "nbformat": 4,
 "nbformat_minor": 5
}
